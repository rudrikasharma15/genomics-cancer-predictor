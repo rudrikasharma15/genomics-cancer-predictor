{
  "nbformat": 4,
  "nbformat_minor": 0,
  "metadata": {
    "colab": {
      "provenance": [],
      "mount_file_id": "1sjC1krP_19oEEDxHL6QGSsHbnQKaCc7V",
      "authorship_tag": "ABX9TyO4V8+M0srj1q1M/rVFV3kg",
      "include_colab_link": true
    },
    "kernelspec": {
      "name": "python3",
      "display_name": "Python 3"
    },
    "language_info": {
      "name": "python"
    }
  },
  "cells": [
    {
      "cell_type": "markdown",
      "metadata": {
        "id": "view-in-github",
        "colab_type": "text"
      },
      "source": [
        "<a href=\"https://colab.research.google.com/github/Anirudh2465/Cancer-Prediction-using-Multi-Omics-Data/blob/main/FINAL_CODE.ipynb\" target=\"_parent\"><img src=\"https://colab.research.google.com/assets/colab-badge.svg\" alt=\"Open In Colab\"/></a>"
      ]
    },
    {
      "cell_type": "code",
      "execution_count": null,
      "metadata": {
        "colab": {
          "base_uri": "https://localhost:8080/"
        },
        "collapsed": true,
        "id": "SeU-k9S_NSs8",
        "outputId": "ee3934a9-43a9-4efe-9eeb-f2393ee80b9c"
      },
      "outputs": [
        {
          "output_type": "stream",
          "name": "stdout",
          "text": [
            "Collecting scikit-learn==1.3.0\n",
            "  Downloading scikit_learn-1.3.0-cp310-cp310-manylinux_2_17_x86_64.manylinux2014_x86_64.whl.metadata (11 kB)\n",
            "Requirement already satisfied: numpy>=1.17.3 in /usr/local/lib/python3.10/dist-packages (from scikit-learn==1.3.0) (1.26.4)\n",
            "Requirement already satisfied: scipy>=1.5.0 in /usr/local/lib/python3.10/dist-packages (from scikit-learn==1.3.0) (1.13.1)\n",
            "Requirement already satisfied: joblib>=1.1.1 in /usr/local/lib/python3.10/dist-packages (from scikit-learn==1.3.0) (1.4.2)\n",
            "Requirement already satisfied: threadpoolctl>=2.0.0 in /usr/local/lib/python3.10/dist-packages (from scikit-learn==1.3.0) (3.5.0)\n",
            "Downloading scikit_learn-1.3.0-cp310-cp310-manylinux_2_17_x86_64.manylinux2014_x86_64.whl (10.8 MB)\n",
            "\u001b[2K   \u001b[90m━━━━━━━━━━━━━━━━━━━━━━━━━━━━━━━━━━━━━━━━\u001b[0m \u001b[32m10.8/10.8 MB\u001b[0m \u001b[31m59.0 MB/s\u001b[0m eta \u001b[36m0:00:00\u001b[0m\n",
            "\u001b[?25hInstalling collected packages: scikit-learn\n",
            "  Attempting uninstall: scikit-learn\n",
            "    Found existing installation: scikit-learn 1.5.2\n",
            "    Uninstalling scikit-learn-1.5.2:\n",
            "      Successfully uninstalled scikit-learn-1.5.2\n",
            "Successfully installed scikit-learn-1.3.0\n",
            "Collecting imbalanced-learn==0.11.0\n",
            "  Downloading imbalanced_learn-0.11.0-py3-none-any.whl.metadata (8.3 kB)\n",
            "Requirement already satisfied: numpy>=1.17.3 in /usr/local/lib/python3.10/dist-packages (from imbalanced-learn==0.11.0) (1.26.4)\n",
            "Requirement already satisfied: scipy>=1.5.0 in /usr/local/lib/python3.10/dist-packages (from imbalanced-learn==0.11.0) (1.13.1)\n",
            "Requirement already satisfied: scikit-learn>=1.0.2 in /usr/local/lib/python3.10/dist-packages (from imbalanced-learn==0.11.0) (1.3.0)\n",
            "Requirement already satisfied: joblib>=1.1.1 in /usr/local/lib/python3.10/dist-packages (from imbalanced-learn==0.11.0) (1.4.2)\n",
            "Requirement already satisfied: threadpoolctl>=2.0.0 in /usr/local/lib/python3.10/dist-packages (from imbalanced-learn==0.11.0) (3.5.0)\n",
            "Downloading imbalanced_learn-0.11.0-py3-none-any.whl (235 kB)\n",
            "\u001b[2K   \u001b[90m━━━━━━━━━━━━━━━━━━━━━━━━━━━━━━━━━━━━━━━━\u001b[0m \u001b[32m235.6/235.6 kB\u001b[0m \u001b[31m3.7 MB/s\u001b[0m eta \u001b[36m0:00:00\u001b[0m\n",
            "\u001b[?25hInstalling collected packages: imbalanced-learn\n",
            "  Attempting uninstall: imbalanced-learn\n",
            "    Found existing installation: imbalanced-learn 0.12.4\n",
            "    Uninstalling imbalanced-learn-0.12.4:\n",
            "      Successfully uninstalled imbalanced-learn-0.12.4\n",
            "Successfully installed imbalanced-learn-0.11.0\n",
            "Requirement already satisfied: torch in /usr/local/lib/python3.10/dist-packages (2.4.1+cu121)\n",
            "Requirement already satisfied: torchvision in /usr/local/lib/python3.10/dist-packages (0.19.1+cu121)\n",
            "Collecting torch_geometric\n",
            "  Downloading torch_geometric-2.6.1-py3-none-any.whl.metadata (63 kB)\n",
            "\u001b[2K     \u001b[90m━━━━━━━━━━━━━━━━━━━━━━━━━━━━━━━━━━━━━━━━\u001b[0m \u001b[32m63.1/63.1 kB\u001b[0m \u001b[31m1.7 MB/s\u001b[0m eta \u001b[36m0:00:00\u001b[0m\n",
            "\u001b[?25hRequirement already satisfied: filelock in /usr/local/lib/python3.10/dist-packages (from torch) (3.16.1)\n",
            "Requirement already satisfied: typing-extensions>=4.8.0 in /usr/local/lib/python3.10/dist-packages (from torch) (4.12.2)\n",
            "Requirement already satisfied: sympy in /usr/local/lib/python3.10/dist-packages (from torch) (1.13.3)\n",
            "Requirement already satisfied: networkx in /usr/local/lib/python3.10/dist-packages (from torch) (3.4.1)\n",
            "Requirement already satisfied: jinja2 in /usr/local/lib/python3.10/dist-packages (from torch) (3.1.4)\n",
            "Requirement already satisfied: fsspec in /usr/local/lib/python3.10/dist-packages (from torch) (2024.6.1)\n",
            "Requirement already satisfied: numpy in /usr/local/lib/python3.10/dist-packages (from torchvision) (1.26.4)\n",
            "Requirement already satisfied: pillow!=8.3.*,>=5.3.0 in /usr/local/lib/python3.10/dist-packages (from torchvision) (10.4.0)\n",
            "Requirement already satisfied: aiohttp in /usr/local/lib/python3.10/dist-packages (from torch_geometric) (3.10.10)\n",
            "Requirement already satisfied: psutil>=5.8.0 in /usr/local/lib/python3.10/dist-packages (from torch_geometric) (5.9.5)\n",
            "Requirement already satisfied: pyparsing in /usr/local/lib/python3.10/dist-packages (from torch_geometric) (3.2.0)\n",
            "Requirement already satisfied: requests in /usr/local/lib/python3.10/dist-packages (from torch_geometric) (2.32.3)\n",
            "Requirement already satisfied: tqdm in /usr/local/lib/python3.10/dist-packages (from torch_geometric) (4.66.5)\n",
            "Requirement already satisfied: aiohappyeyeballs>=2.3.0 in /usr/local/lib/python3.10/dist-packages (from aiohttp->torch_geometric) (2.4.3)\n",
            "Requirement already satisfied: aiosignal>=1.1.2 in /usr/local/lib/python3.10/dist-packages (from aiohttp->torch_geometric) (1.3.1)\n",
            "Requirement already satisfied: attrs>=17.3.0 in /usr/local/lib/python3.10/dist-packages (from aiohttp->torch_geometric) (24.2.0)\n",
            "Requirement already satisfied: frozenlist>=1.1.1 in /usr/local/lib/python3.10/dist-packages (from aiohttp->torch_geometric) (1.4.1)\n",
            "Requirement already satisfied: multidict<7.0,>=4.5 in /usr/local/lib/python3.10/dist-packages (from aiohttp->torch_geometric) (6.1.0)\n",
            "Requirement already satisfied: yarl<2.0,>=1.12.0 in /usr/local/lib/python3.10/dist-packages (from aiohttp->torch_geometric) (1.15.4)\n",
            "Requirement already satisfied: async-timeout<5.0,>=4.0 in /usr/local/lib/python3.10/dist-packages (from aiohttp->torch_geometric) (4.0.3)\n",
            "Requirement already satisfied: MarkupSafe>=2.0 in /usr/local/lib/python3.10/dist-packages (from jinja2->torch) (3.0.2)\n",
            "Requirement already satisfied: charset-normalizer<4,>=2 in /usr/local/lib/python3.10/dist-packages (from requests->torch_geometric) (3.4.0)\n",
            "Requirement already satisfied: idna<4,>=2.5 in /usr/local/lib/python3.10/dist-packages (from requests->torch_geometric) (3.10)\n",
            "Requirement already satisfied: urllib3<3,>=1.21.1 in /usr/local/lib/python3.10/dist-packages (from requests->torch_geometric) (2.2.3)\n",
            "Requirement already satisfied: certifi>=2017.4.17 in /usr/local/lib/python3.10/dist-packages (from requests->torch_geometric) (2024.8.30)\n",
            "Requirement already satisfied: mpmath<1.4,>=1.1.0 in /usr/local/lib/python3.10/dist-packages (from sympy->torch) (1.3.0)\n",
            "Requirement already satisfied: propcache>=0.2.0 in /usr/local/lib/python3.10/dist-packages (from yarl<2.0,>=1.12.0->aiohttp->torch_geometric) (0.2.0)\n",
            "Downloading torch_geometric-2.6.1-py3-none-any.whl (1.1 MB)\n",
            "\u001b[2K   \u001b[90m━━━━━━━━━━━━━━━━━━━━━━━━━━━━━━━━━━━━━━━━\u001b[0m \u001b[32m1.1/1.1 MB\u001b[0m \u001b[31m16.4 MB/s\u001b[0m eta \u001b[36m0:00:00\u001b[0m\n",
            "\u001b[?25hInstalling collected packages: torch_geometric\n",
            "Successfully installed torch_geometric-2.6.1\n"
          ]
        }
      ],
      "source": [
        "!pip install scikit-learn==1.3.0\n",
        "!pip install imbalanced-learn==0.11.0\n",
        "!pip install torch torchvision torch_geometric"
      ]
    },
    {
      "cell_type": "code",
      "source": [
        "import pandas as pd\n",
        "import numpy as np\n",
        "from sklearn.model_selection import train_test_split\n",
        "from sklearn.preprocessing import StandardScaler\n",
        "import torch\n",
        "import torch.nn as nn\n",
        "import torch.optim as optim\n",
        "from sklearn.metrics import accuracy_score, precision_score, recall_score, f1_score\n",
        "import seaborn as sns\n",
        "import matplotlib.pyplot as plt\n",
        "from torch_geometric.data import Data\n",
        "from torch_geometric.nn import GATConv\n",
        "import torch.nn.functional as F\n",
        "from sklearn.preprocessing import LabelEncoder\n",
        "import torch\n",
        "import os\n",
        "from imblearn.over_sampling import SMOTE"
      ],
      "metadata": {
        "id": "M7V8SEcWNZmg"
      },
      "execution_count": null,
      "outputs": []
    },
    {
      "cell_type": "code",
      "source": [
        "def load_datas(list_of_files):\n",
        "  trans_data1=[]\n",
        "  geno_data1=[]\n",
        "  prote_data1=[]\n",
        "  trans_data = pd.DataFrame()\n",
        "  prote_data = pd.DataFrame()\n",
        "  geno_data = pd.DataFrame()\n",
        "  for i in list_of_files:\n",
        "    if 'prote' in i:\n",
        "      prote_data1.append(i)\n",
        "    elif 'trans' in i:\n",
        "      trans_data1.append(i)\n",
        "    elif 'geno' in i:\n",
        "      geno_data1.append(i)\n",
        "\n",
        "  for j in trans_data1:\n",
        "    trans_df=pd.read_csv(j,sep='\\t')\n",
        "    trans_data = pd.concat([trans_data,trans_df])\n",
        "  for j in prote_data1:\n",
        "    prote_df=pd.read_csv(j,sep='\\t')\n",
        "    prote_data = pd.concat([prote_data,prote_df])\n",
        "  for j in geno_data1:\n",
        "    geno_df=pd.read_csv(j,sep='\\t')\n",
        "    geno_data = pd.concat([geno_data,geno_df])\n",
        "  return trans_data,prote_data,geno_data"
      ],
      "metadata": {
        "id": "lnXsl9CrNcOx"
      },
      "execution_count": null,
      "outputs": []
    },
    {
      "cell_type": "code",
      "source": [
        "def canornot():\n",
        "  can = []\n",
        "  notcan = []\n",
        "  for file_name in os.listdir('/content/drive/MyDrive/Cancerous'):\n",
        "    if file_name.endswith('.tsv'):\n",
        "      can.append(os.path.join('/content/drive/MyDrive/Cancerous', file_name))\n",
        "  for file_name in os.listdir('/content/drive/MyDrive/Non-Cancerous'):\n",
        "    if file_name.endswith('.tsv'):\n",
        "      notcan.append(os.path.join('/content/drive/MyDrive/Non-Cancerous', file_name))\n",
        "  return can,notcan"
      ],
      "metadata": {
        "id": "5-44NbQSNejI"
      },
      "execution_count": null,
      "outputs": []
    },
    {
      "cell_type": "code",
      "source": [
        "def pre_process(trans_data,prote_data,geno_data,canval):\n",
        "  mgt = pd.merge(geno_data, trans_data, on='gene_id', how='inner')\n",
        "  ma = pd.merge(mgt, prote_data,left_on='gene_name_x', right_on='peptide_target', how='inner')\n",
        "  columns=['Unnamed: 9','Unnamed: 10','gene_name_y','set_id','catalog_number','lab_id','AGID','stranded_first','stranded_second','unstranded','gene_id','start','end','min_copy_number','max_copy_number','gene_type','unstranded']\n",
        "  for i in columns:\n",
        "    try:\n",
        "      ma = ma.drop(columns=[i])\n",
        "    except:\n",
        "      pass\n",
        "  ma.to_csv('all_data.csv', index=False)\n",
        "  all_data_cleaned = pd.read_csv('all_data.csv')\n",
        "\n",
        "\n",
        "\n",
        "  # Encode peptide_target into numerical labels\n",
        "  label_encoder = LabelEncoder()\n",
        "  all_data_cleaned['gene_name'] = label_encoder.fit_transform(all_data_cleaned['gene_name_x'])\n",
        "  all_data_cleaned['chromosome'] = label_encoder.fit_transform(all_data_cleaned['chromosome'])\n",
        "  all_data_cleaned['peptide_target'] = label_encoder.fit_transform(all_data_cleaned['peptide_target'])\n",
        "  # Prepare node features (protein expression)\n",
        "  node_features = torch.tensor(all_data_cleaned['protein_expression'].values, dtype=torch.float).unsqueeze(1)\n",
        "\n",
        "  # Create labels: 1 for cancerous, 0 for non-cancerous\n",
        "  all_data_cleaned['gene_presence'] = canval\n",
        "\n",
        "  num_cancerous = all_data_cleaned[all_data_cleaned['gene_presence'] == 1].shape[0]\n",
        "  labels = torch.tensor([1] * num_cancerous + [0] * (all_data_cleaned.shape[0] - num_cancerous), dtype=torch.float)\n",
        "  # Check combined data and labels\n",
        "  all_data_cleaned = all_data_cleaned.drop(columns=['gene_name_x'])\n",
        "  all_data_cleaned = all_data_cleaned.dropna()\n",
        "  return all_data_cleaned,labels"
      ],
      "metadata": {
        "id": "M10NO0mwNfxH"
      },
      "execution_count": null,
      "outputs": []
    },
    {
      "cell_type": "code",
      "source": [
        "def define_gene_presence(all_data_cleaned):\n",
        "  # Access the specific column you want to compare\n",
        "  # Assuming 'gene_presence' or a similar column exists in your data\n",
        "  if all_data_cleaned['gene_presence'] == 1: # Modified line\n",
        "    return 1\n",
        "  else:\n",
        "    return 0"
      ],
      "metadata": {
        "id": "WmKMLDwJNhTN"
      },
      "execution_count": null,
      "outputs": []
    },
    {
      "cell_type": "code",
      "source": [
        "def scale_train_split(all_data_cleaned):\n",
        "\n",
        "  features = all_data_cleaned[['chromosome','copy_number','tpm_unstranded', 'fpkm_unstranded', 'fpkm_uq_unstranded', 'peptide_target', 'protein_expression', 'gene_name']]\n",
        "  target = all_data_cleaned['gene_presence']\n",
        "  scaler = StandardScaler()\n",
        "  features_scaled = scaler.fit_transform(features)\n",
        "  X,y = features_scaled,target\n",
        "  X_train, X_test, y_train, y_test = train_test_split(X,y, test_size=0.2, random_state=42)\n",
        "  X_train_tensor = torch.tensor(X_train, dtype=torch.float32)\n",
        "  y_train_tensor = torch.tensor(y_train.values, dtype=torch.float32)  # use .values to avoid warnings\n",
        "  X_test_tensor = torch.tensor(X_test, dtype=torch.float32)\n",
        "  y_test_tensor = torch.tensor(y_test.values, dtype=torch.float32)\n",
        "  return X_train_tensor, y_train_tensor, X_test_tensor, y_test_tensor"
      ],
      "metadata": {
        "id": "8xfRQQgFNlVN"
      },
      "execution_count": null,
      "outputs": []
    },
    {
      "cell_type": "code",
      "source": [
        "def GAT_pre_process(all_data_cleaned):\n",
        "  all_data_cleaned['gene_presence'] = all_data_cleaned.apply(define_gene_presence, axis=1)\n",
        "  features = all_data_cleaned[['chromosome','copy_number','tpm_unstranded', 'fpkm_unstranded', 'fpkm_uq_unstranded', 'peptide_target', 'protein_expression', 'gene_name']].fillna(0)\n",
        "  correlation_matrix = features.corr()\n",
        "\n",
        "  plt.figure(figsize=(10, 8))\n",
        "  sns.heatmap(correlation_matrix, annot=True, fmt=\".2f\", cmap='coolwarm', square=True, cbar_kws={\"shrink\": .8})\n",
        "  plt.title(\"Correlation Matrix\")\n",
        "  plt.show()\n",
        "\n",
        "\n",
        "  threshold = 0.8\n",
        "  edges = []\n",
        "  edge_attributes = []\n",
        "\n",
        "    # Step 5: Iterate over the correlation matrix and create edges/attributes\n",
        "  for i in range(len(correlation_matrix.columns)):\n",
        "      for j in range(i):\n",
        "          corr_value = correlation_matrix.iloc[i, j]\n",
        "          if abs(corr_value) > threshold:\n",
        "              # Add edge between nodes (i, j) and save the absolute correlation as the edge attribute (weight)\n",
        "              edges.append([features.columns.get_loc(correlation_matrix.columns[i]),\n",
        "                            features.columns.get_loc(correlation_matrix.columns[j])])\n",
        "              edge_attributes.append(abs(corr_value))  # Use the absolute correlation value as the weight\n",
        "\n",
        "    # Convert edge_index and edge_attributes to numpy arrays\n",
        "  edge_index = np.array(edges).T  # Shape [2, num_edges]\n",
        "  edge_attributes = np.array(edge_attributes)  # Shape [num_edges]\n",
        "\n",
        "  print(\"Edge Index:\")\n",
        "  print(edge_index)\n",
        "  print(\"Edge Attributes (Weights):\")\n",
        "  print(edge_attributes)\n",
        "\n",
        "  return edge_index, edge_attributes"
      ],
      "metadata": {
        "id": "ciRRlxoKNnhH"
      },
      "execution_count": null,
      "outputs": []
    },
    {
      "cell_type": "code",
      "source": [
        "can,cannot = canornot()\n",
        "cantrans,canprote,cangeno = load_datas(can)\n",
        "notcantrans,notcanprote,notcangeno = load_datas(cannot)"
      ],
      "metadata": {
        "id": "mCQgcnx1Npby"
      },
      "execution_count": null,
      "outputs": []
    },
    {
      "cell_type": "code",
      "source": [
        "allcan,canlab = pre_process(cantrans,canprote,cangeno,1)\n",
        "allnotcan,notcanlab = pre_process(notcantrans,notcanprote,notcangeno,0)"
      ],
      "metadata": {
        "id": "IuY2NauPNq7O"
      },
      "execution_count": null,
      "outputs": []
    },
    {
      "cell_type": "code",
      "source": [
        "all_data_cleaned = pd.concat([allcan,allnotcan])\n",
        "labels = torch.cat((canlab,notcanlab), dim=0)"
      ],
      "metadata": {
        "id": "yPMVo0aiNsiY"
      },
      "execution_count": null,
      "outputs": []
    },
    {
      "cell_type": "code",
      "source": [
        "X_train_tensor, y_train_tensor, X_test_tensor, y_test_tensor = scale_train_split(all_data_cleaned)"
      ],
      "metadata": {
        "id": "WEIdwyeoNuF6"
      },
      "execution_count": null,
      "outputs": []
    },
    {
      "cell_type": "code",
      "source": [
        "edge_index,edge_attribute = GAT_pre_process(all_data_cleaned)"
      ],
      "metadata": {
        "colab": {
          "base_uri": "https://localhost:8080/",
          "height": 918
        },
        "id": "OEkOrT_0Nwzp",
        "outputId": "714b6f01-dfa0-468c-f629-2bfda9dad5a0"
      },
      "execution_count": null,
      "outputs": [
        {
          "output_type": "display_data",
          "data": {
            "text/plain": [
              "<Figure size 1000x800 with 2 Axes>"
            ],
            "image/png": "[encoded data removed]"
          },
          "metadata": {}
        },
        {
          "output_type": "stream",
          "name": "stdout",
          "text": [
            "Edge Index:\n",
            "[[3 4 4 7]\n",
            " [2 2 3 5]]\n",
            "Edge Attributes (Weights):\n",
            "[0.99426923 0.9907736  0.99783498 1.        ]\n"
          ]
        }
      ]
    },
    {
      "cell_type": "code",
      "source": [
        "edge_weights = edge_attribute\n",
        "edge_index = torch.tensor(edge_index)"
      ],
      "metadata": {
        "id": "VOKzRGrlPgu4"
      },
      "execution_count": null,
      "outputs": []
    },
    {
      "cell_type": "code",
      "source": [
        "import torch\n",
        "import torch.nn as nn\n",
        "import torch.nn.functional as F\n",
        "from torch_geometric.nn import GATConv\n",
        "\n",
        "# Define the GAT model with Dimensionality Reduction (without additional attention)\n",
        "class GATWithDimensionalityReduction(nn.Module):\n",
        "    def __init__(self, in_channels, hidden_channels, out_channels, reduce_dim, num_heads=4):\n",
        "        super(GATWithDimensionalityReduction, self).__init__()\n",
        "\n",
        "        # First GATConv layer\n",
        "        self.conv1 = GATConv(in_channels, hidden_channels, heads=num_heads, edge_dim=1)\n",
        "\n",
        "        # Second GATConv layer\n",
        "        self.conv2 = GATConv(hidden_channels * num_heads, hidden_channels * 2, heads=num_heads, edge_dim=1)\n",
        "\n",
        "        # Third GATConv layer\n",
        "        self.conv3 = GATConv(hidden_channels * 2 * num_heads, hidden_channels * 4, heads=num_heads, edge_dim=1)\n",
        "\n",
        "        # Fourth GATConv layer\n",
        "        self.conv4 = GATConv(hidden_channels * 4 * num_heads, hidden_channels * 8, heads=num_heads, edge_dim=1)\n",
        "\n",
        "        # Dimensionality reduction layer\n",
        "        self.dim_reduce = nn.Linear(hidden_channels * 8 * num_heads, reduce_dim)\n",
        "\n",
        "        # Fully connected layers\n",
        "        self.fc1 = nn.Linear(reduce_dim, 64)\n",
        "        self.fc2 = nn.Linear(64, 1)  # Final output is a single logit for each node\n",
        "\n",
        "    def forward(self, x, edge_index, edge_attr):\n",
        "        # Apply GATConv layers with activation functions\n",
        "        x = F.elu(self.conv1(x, edge_index))\n",
        "        x = F.elu(self.conv2(x, edge_index))\n",
        "        x = F.elu(self.conv3(x, edge_index))\n",
        "        x = F.elu(self.conv4(x, edge_index))\n",
        "\n",
        "        # Apply dimensionality reduction\n",
        "        x = self.dim_reduce(x)\n",
        "        x = F.elu(x)\n",
        "\n",
        "        # Fully connected layers\n",
        "        x = F.elu(self.fc1(x))\n",
        "        x = self.fc2(x)  # Final output is a single logit for each node\n",
        "\n",
        "        return x\n",
        "\n",
        "# Set random seeds for reproducibility\n",
        "torch.manual_seed(42)\n",
        "\n",
        "# Instantiate the model with dimensionality reduction (without attention)\n",
        "in_channels = X_train_tensor.shape[1]  # Input features\n",
        "hidden_channels = 8  # Number of hidden channels in GAT layers\n",
        "out_channels = 16  # Output of GAT layer before reduction\n",
        "reduce_dim = 32  # Dimension after reduction\n",
        "num_heads = 4  # Number of attention heads\n",
        "\n",
        "model1 = GATWithDimensionalityReduction(in_channels=in_channels, hidden_channels=hidden_channels, out_channels=out_channels, reduce_dim=reduce_dim, num_heads=num_heads)\n",
        "\n",
        "# Define loss and optimizer\n",
        "optimizer = torch.optim.Adam(model1.parameters(), lr=0.001)\n",
        "criterion = nn.BCEWithLogitsLoss()\n",
        "\n",
        "train_data = Data(x=X_train_tensor, edge_index=edge_index, edge_attr=edge_weights, y=y_train_tensor)\n",
        "\n",
        "# Create PyTorch Geometric data object for testing\n",
        "test_data = Data(x=X_test_tensor, edge_index=edge_index, edge_attr=edge_weights, y=y_test_tensor)\n",
        "\n",
        "# Training loop\n",
        "num_epochs = 100\n",
        "for epoch in range(num_epochs):\n",
        "    model1.train()\n",
        "    optimizer.zero_grad()\n",
        "\n",
        "    # Forward pass\n",
        "    out = model1(train_data.x, train_data.edge_index, train_data.edge_attr)\n",
        "\n",
        "    # Flatten output and calculate loss\n",
        "    out = out.view(-1)\n",
        "    loss = criterion(out, train_data.y)\n",
        "\n",
        "    # Backward pass and optimization\n",
        "    loss.backward()\n",
        "    optimizer.step()\n",
        "\n",
        "    # Print loss for every 10 epochs\n",
        "    print(f'Epoch [{epoch+1}/{num_epochs}], Loss: {loss.item()}')\n",
        "\n",
        "# Evaluate the model on the test set\n",
        "model1.eval()\n",
        "with torch.no_grad():\n",
        "    test_out = model1(test_data.x, test_data.edge_index, test_data.edge_attr)\n",
        "    test_out = test_out.view(-1)  # Flatten output\n",
        "    test_loss = criterion(test_out, test_data.y)\n",
        "\n",
        "    print(f'Test Loss: {test_loss.item():.4f}')\n",
        "\n",
        "    # Convert logits to predictions\n",
        "    predictions = torch.sigmoid(test_out)\n",
        "    predicted_classes = (predictions > 0.5).float()\n",
        "\n",
        "    # Calculate accuracy\n",
        "    accuracy = (predicted_classes == test_data.y).float().mean()\n",
        "    print(f'Test Accuracy: {accuracy.item() * 100:.2f}%')\n"
      ],
      "metadata": {
        "colab": {
          "base_uri": "https://localhost:8080/"
        },
        "id": "jhqe9sp6N3Zr",
        "outputId": "18472d85-4054-4e3b-df66-0ca51df901af"
      },
      "execution_count": null,
      "outputs": [
        {
          "output_type": "stream",
          "name": "stdout",
          "text": [
            "Epoch [1/100], Loss: 0.694151759147644\n",
            "Epoch [2/100], Loss: 0.6911205053329468\n",
            "Epoch [3/100], Loss: 0.6887068152427673\n",
            "Epoch [4/100], Loss: 0.6866471171379089\n",
            "Epoch [5/100], Loss: 0.684893012046814\n",
            "Epoch [6/100], Loss: 0.6835231781005859\n",
            "Epoch [7/100], Loss: 0.6825428009033203\n",
            "Epoch [8/100], Loss: 0.6816636919975281\n",
            "Epoch [9/100], Loss: 0.6805436015129089\n",
            "Epoch [10/100], Loss: 0.6790822148323059\n",
            "Epoch [11/100], Loss: 0.6773123741149902\n",
            "Epoch [12/100], Loss: 0.6753050684928894\n",
            "Epoch [13/100], Loss: 0.6731552481651306\n",
            "Epoch [14/100], Loss: 0.6709203720092773\n",
            "Epoch [15/100], Loss: 0.6685894727706909\n",
            "Epoch [16/100], Loss: 0.6661219596862793\n",
            "Epoch [17/100], Loss: 0.6634993553161621\n",
            "Epoch [18/100], Loss: 0.6607751250267029\n",
            "Epoch [19/100], Loss: 0.6581036448478699\n",
            "Epoch [20/100], Loss: 0.6557376384735107\n",
            "Epoch [21/100], Loss: 0.6539619565010071\n",
            "Epoch [22/100], Loss: 0.652915894985199\n",
            "Epoch [23/100], Loss: 0.6523747444152832\n",
            "Epoch [24/100], Loss: 0.6518430113792419\n",
            "Epoch [25/100], Loss: 0.6510045528411865\n",
            "Epoch [26/100], Loss: 0.6499586701393127\n",
            "Epoch [27/100], Loss: 0.6490339636802673\n",
            "Epoch [28/100], Loss: 0.6484836935997009\n",
            "Epoch [29/100], Loss: 0.6483104228973389\n",
            "Epoch [30/100], Loss: 0.6482914090156555\n",
            "Epoch [31/100], Loss: 0.648158848285675\n",
            "Epoch [32/100], Loss: 0.6477882266044617\n",
            "Epoch [33/100], Loss: 0.6472075581550598\n",
            "Epoch [34/100], Loss: 0.6465040445327759\n",
            "Epoch [35/100], Loss: 0.6457995772361755\n",
            "Epoch [36/100], Loss: 0.6451956033706665\n",
            "Epoch [37/100], Loss: 0.6446371674537659\n",
            "Epoch [38/100], Loss: 0.6439932584762573\n",
            "Epoch [39/100], Loss: 0.64326012134552\n",
            "Epoch [40/100], Loss: 0.6425370573997498\n",
            "Epoch [41/100], Loss: 0.6418408751487732\n",
            "Epoch [42/100], Loss: 0.6411312222480774\n",
            "Epoch [43/100], Loss: 0.6404149532318115\n",
            "Epoch [44/100], Loss: 0.6396698951721191\n",
            "Epoch [45/100], Loss: 0.6388747692108154\n",
            "Epoch [46/100], Loss: 0.6380763649940491\n",
            "Epoch [47/100], Loss: 0.6372494101524353\n",
            "Epoch [48/100], Loss: 0.6363574862480164\n",
            "Epoch [49/100], Loss: 0.6354249119758606\n",
            "Epoch [50/100], Loss: 0.6344377994537354\n",
            "Epoch [51/100], Loss: 0.633459746837616\n",
            "Epoch [52/100], Loss: 0.6323970556259155\n",
            "Epoch [53/100], Loss: 0.6311888694763184\n",
            "Epoch [54/100], Loss: 0.6299574375152588\n",
            "Epoch [55/100], Loss: 0.6289047598838806\n",
            "Epoch [56/100], Loss: 0.6277692914009094\n",
            "Epoch [57/100], Loss: 0.6265242695808411\n",
            "Epoch [58/100], Loss: 0.6252641677856445\n",
            "Epoch [59/100], Loss: 0.6238864660263062\n",
            "Epoch [60/100], Loss: 0.6224192380905151\n",
            "Epoch [61/100], Loss: 0.6209681034088135\n",
            "Epoch [62/100], Loss: 0.6205890774726868\n",
            "Epoch [63/100], Loss: 0.6200509667396545\n",
            "Epoch [64/100], Loss: 0.6169939637184143\n",
            "Epoch [65/100], Loss: 0.6166061758995056\n",
            "Epoch [66/100], Loss: 0.6158427596092224\n",
            "Epoch [67/100], Loss: 0.6129103899002075\n",
            "Epoch [68/100], Loss: 0.6130934357643127\n",
            "Epoch [69/100], Loss: 0.6110180020332336\n",
            "Epoch [70/100], Loss: 0.6089284420013428\n",
            "Epoch [71/100], Loss: 0.6089277863502502\n",
            "Epoch [72/100], Loss: 0.6066527962684631\n",
            "Epoch [73/100], Loss: 0.6046671867370605\n",
            "Epoch [74/100], Loss: 0.6047713160514832\n",
            "Epoch [75/100], Loss: 0.6024630069732666\n",
            "Epoch [76/100], Loss: 0.6007527709007263\n",
            "Epoch [77/100], Loss: 0.6011448502540588\n",
            "Epoch [78/100], Loss: 0.5994570851325989\n",
            "Epoch [79/100], Loss: 0.5966620445251465\n",
            "Epoch [80/100], Loss: 0.5961079001426697\n",
            "Epoch [81/100], Loss: 0.5949203968048096\n",
            "Epoch [82/100], Loss: 0.5925562381744385\n",
            "Epoch [83/100], Loss: 0.5925862789154053\n",
            "Epoch [84/100], Loss: 0.5920212268829346\n",
            "Epoch [85/100], Loss: 0.5885677337646484\n",
            "Epoch [86/100], Loss: 0.5882598161697388\n",
            "Epoch [87/100], Loss: 0.5878575444221497\n",
            "Epoch [88/100], Loss: 0.5863306522369385\n",
            "Epoch [89/100], Loss: 0.5851114392280579\n",
            "Epoch [90/100], Loss: 0.5862255692481995\n",
            "Epoch [91/100], Loss: 0.5905682444572449\n",
            "Epoch [92/100], Loss: 0.5834448337554932\n",
            "Epoch [93/100], Loss: 0.5822457671165466\n",
            "Epoch [94/100], Loss: 0.5809037089347839\n",
            "Epoch [95/100], Loss: 0.5797690749168396\n",
            "Epoch [96/100], Loss: 0.5788262486457825\n",
            "Epoch [97/100], Loss: 0.5771656036376953\n",
            "Epoch [98/100], Loss: 0.5747342109680176\n",
            "Epoch [99/100], Loss: 0.5755038857460022\n",
            "Epoch [100/100], Loss: 0.573677659034729\n",
            "Test Loss: 0.5705\n",
            "Test Accuracy: 68.70%\n"
          ]
        }
      ]
    },
    {
      "cell_type": "code",
      "source": [
        "# Save the trained model\n",
        "torch.save(model1.state_dict(), \"GATWithDimensionalityReduction.pth\")\n",
        "print(\"Model saved successfully!\")\n"
      ],
      "metadata": {
        "colab": {
          "base_uri": "https://localhost:8080/"
        },
        "id": "n6yhA7mrSRSy",
        "outputId": "19edcff5-93f6-46a4-8982-dc53eb741f74"
      },
      "execution_count": null,
      "outputs": [
        {
          "output_type": "stream",
          "name": "stdout",
          "text": [
            "Model saved successfully!\n"
          ]
        }
      ]
    },
    {
      "cell_type": "markdown",
      "source": [
        "# **TESTING CODE**"
      ],
      "metadata": {
        "id": "QIxUI_zVTywj"
      }
    },
    {
      "cell_type": "code",
      "source": [
        "def readfiles(list_of_files):\n",
        "  for i in list_of_files:\n",
        "    if 'prote' in i:\n",
        "      prote_data=pd.read_csv(i,sep='\\t')\n",
        "    elif 'trans' in i:\n",
        "      trans_data=pd.read_csv(i,sep='\\t')\n",
        "    elif 'geno' in i:\n",
        "      geno_data=pd.read_csv(i,sep='\\t')\n",
        "\n",
        "  return trans_data,prote_data,geno_data"
      ],
      "metadata": {
        "id": "DEOBESiXTyU-"
      },
      "execution_count": null,
      "outputs": []
    },
    {
      "cell_type": "code",
      "source": [
        "def preprocess(trans_data,prote_data,geno_data):\n",
        "  mgt = pd.merge(geno_data, trans_data, on='gene_id', how='inner')\n",
        "  ma = pd.merge(mgt, prote_data,left_on='gene_name_x', right_on='peptide_target', how='inner')\n",
        "  columns=['Unnamed: 9','Unnamed: 10','gene_name_y','set_id','catalog_number','lab_id','AGID','stranded_first','stranded_second','unstranded','gene_id','start','end','min_copy_number','max_copy_number','gene_type','unstranded']\n",
        "  for i in columns:\n",
        "    try:\n",
        "      ma = ma.drop(columns=[i])\n",
        "    except:\n",
        "      pass\n",
        "  ma.to_csv('all_data.csv', index=False)\n",
        "  all_data_cleaned = pd.read_csv('all_data.csv')\n",
        "  # print(all_data_cleaned.isnull().sum())\n",
        "\n",
        "\n",
        "  label_encoder = LabelEncoder()\n",
        "  all_data_cleaned['gene_name'] = label_encoder.fit_transform(all_data_cleaned['gene_name_x'])\n",
        "  all_data_cleaned['chromosome'] = label_encoder.fit_transform(all_data_cleaned['chromosome'])\n",
        "  all_data_cleaned['peptide_target'] = label_encoder.fit_transform(all_data_cleaned['peptide_target'])\n",
        "  # Prepare node features (protein expression)\n",
        "  node_features = torch.tensor(all_data_cleaned['protein_expression'].values, dtype=torch.float).unsqueeze(1)\n",
        "  all_data_cleaned = all_data_cleaned.drop(columns=['gene_name_x'])\n",
        "  all_data_cleaned = all_data_cleaned.dropna()\n",
        "\n",
        "  features = all_data_cleaned[['chromosome','copy_number','tpm_unstranded', 'fpkm_unstranded', 'fpkm_uq_unstranded', 'peptide_target', 'protein_expression', 'gene_name']]  # or other relevant features\n",
        "  scaler = StandardScaler()\n",
        "  features_scaled = scaler.fit_transform(features)\n",
        "\n",
        "  X_test1 = torch.tensor(features_scaled, dtype=torch.float32)\n",
        "  return X_test1,all_data_cleaned\n"
      ],
      "metadata": {
        "id": "-5O9wHGQUPT1"
      },
      "execution_count": null,
      "outputs": []
    },
    {
      "cell_type": "code",
      "source": [
        "def GAT_pre_process_for_testing(all_data_cleaned):\n",
        "  features = all_data_cleaned[['chromosome','copy_number','tpm_unstranded', 'fpkm_unstranded', 'fpkm_uq_unstranded', 'peptide_target', 'protein_expression', 'gene_name']].fillna(0)\n",
        "  correlation_matrix = features.corr()\n",
        "\n",
        "\n",
        "\n",
        "  threshold = 0.8\n",
        "  edges = []\n",
        "  edge_attributes = []\n",
        "\n",
        "    # Step 5: Iterate over the correlation matrix and create edges/attributes\n",
        "  for i in range(len(correlation_matrix.columns)):\n",
        "      for j in range(i):\n",
        "          corr_value = correlation_matrix.iloc[i, j]\n",
        "          if abs(corr_value) > threshold:\n",
        "              # Add edge between nodes (i, j) and save the absolute correlation as the edge attribute (weight)\n",
        "              edges.append([features.columns.get_loc(correlation_matrix.columns[i]),\n",
        "                            features.columns.get_loc(correlation_matrix.columns[j])])\n",
        "              edge_attributes.append(abs(corr_value))  # Use the absolute correlation value as the weight\n",
        "\n",
        "    # Convert edge_index and edge_attributes to numpy arrays\n",
        "  edge_index = np.array(edges).T  # Shape [2, num_edges]\n",
        "  edge_attributes = np.array(edge_attributes)  # Shape [num_edges]\n",
        "\n",
        "  return edge_index, edge_attributes"
      ],
      "metadata": {
        "id": "B4fONkFdaQzx"
      },
      "execution_count": null,
      "outputs": []
    },
    {
      "cell_type": "code",
      "source": [
        "list_of_files = ['/content/drive/MyDrive/Non-Cancerous/geno20.tsv','/content/drive/MyDrive/Non-Cancerous/trans20.tsv','/content/drive/MyDrive/Non-Cancerous/prote20.tsv']\n",
        "trans_data_test, prote_data_test, geno_data_test = readfiles(list_of_files)\n",
        "X_test1,all_data_cleaned1 = preprocess(trans_data_test,prote_data_test,geno_data_test)\n",
        "\n",
        "edge_index, edge_attributes = GAT_pre_process_for_testing(all_data_cleaned1)\n",
        "edge_weights = edge_attributes\n",
        "edge_index = torch.tensor(edge_index)\n",
        "test_data = Data(x=X_test1, edge_index=edge_index, edge_attr=edge_weights)\n",
        "\n",
        "# # Create the model architecture\n",
        "# model1 = GATWithDimensionalityReduction(in_channels=in_channels, hidden_channels=hidden_channels, out_channels=out_channels, reduce_dim=reduce_dim, num_heads=num_heads)\n",
        "\n",
        "# # Load the saved state dictionary (parameters)\n",
        "# model1.load_state_dict(torch.load(\"GATWithDimensionalityReduction.pth\",weights_only=True))\n",
        "\n",
        "# Set model to evaluation mode if you're using it for inference\n",
        "model1.eval()\n",
        "with torch.no_grad():\n",
        "    test_out = model1(test_data.x, test_data.edge_index, test_data.edge_attr)\n",
        "    test_out = test_out.view(-1)  # Flatten output\n",
        "\n",
        "    # Convert logits to probabilities (between 0 and 1)\n",
        "    probabilities = torch.sigmoid(test_out)\n",
        "\n",
        "    # Calculate the average probability as a measure of cancer likelihood\n",
        "    average_probability = probabilities.mean()\n",
        "\n",
        "    # Convert to a percentage\n",
        "    percentage_chance = average_probability.item() * 100\n",
        "\n",
        "    # Print the percentage chance of cancer\n",
        "    print(f\"Percentage chance of cancer: {percentage_chance:.2f}%\")\n",
        "\n"
      ],
      "metadata": {
        "colab": {
          "base_uri": "https://localhost:8080/"
        },
        "id": "uAqKNg7nUzcc",
        "outputId": "f775b894-78c3-4aa3-cb5c-8cc37cdcc693"
      },
      "execution_count": null,
      "outputs": [
        {
          "output_type": "stream",
          "name": "stdout",
          "text": [
            "Percentage chance of cancer: 45.35%\n"
          ]
        }
      ]
    },
    {
      "cell_type": "code",
      "source": [],
      "metadata": {
        "id": "EL5SCttDOVxT"
      },
      "execution_count": null,
      "outputs": []
    }
  ]
}